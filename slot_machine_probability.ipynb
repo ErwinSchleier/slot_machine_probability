{
 "cells": [
  {
   "cell_type": "markdown",
   "metadata": {},
   "source": [
    "# Expected Value of a Slot Machine"
   ]
  },
  {
   "cell_type": "markdown",
   "metadata": {},
   "source": [
    "A slot machine with, in this example 3 slots and 4 different symbols can have 64 (4 x 4 x 4) different combinations. The number of combinations in today's slots is somewhat higher. For example 5 slots with 30 symbols each, has a total of combinations of 243,000,000."
   ]
  },
  {
   "cell_type": "code",
   "execution_count": 23,
   "metadata": {},
   "outputs": [],
   "source": [
    "symbols = [1, 2, 3, 4]\n",
    "spins = [1, 2, 3]"
   ]
  },
  {
   "cell_type": "code",
   "execution_count": 24,
   "metadata": {},
   "outputs": [],
   "source": [
    "def total_combinations(symbols: list, spins: list) -> int:\n",
    "    result = 0\n",
    "    for i, spin in enumerate(spins):\n",
    "        if i == 0:\n",
    "            result = len(symbols)\n",
    "        else:\n",
    "            result = result * len(symbols)\n",
    "    return result"
   ]
  },
  {
   "cell_type": "code",
   "execution_count": 25,
   "metadata": {},
   "outputs": [
    {
     "data": {
      "text/plain": [
       "64"
      ]
     },
     "execution_count": 25,
     "metadata": {},
     "output_type": "execute_result"
    }
   ],
   "source": [
    "total_combinations(symbols, spins)"
   ]
  },
  {
   "cell_type": "markdown",
   "metadata": {},
   "source": [
    "The possible winning combinations in this example are straight forward:\n",
    "1. Three same symbols win 50 coins<br/>\n",
    "2. Two same symbols win of 10 coins<br/>"
   ]
  },
  {
   "cell_type": "code",
   "execution_count": 26,
   "metadata": {},
   "outputs": [],
   "source": [
    "import random\n",
    "\n",
    "def spin(symbols: list, spins: list) -> int:\n",
    "    result = []\n",
    "    for spin in spins:\n",
    "        result.append(random.choice(symbols))\n",
    "    if(len(set(result)) < 3):\n",
    "        if(len(set(result)) < 2):\n",
    "            return(50)\n",
    "        else:\n",
    "            return(10)\n",
    "    else:\n",
    "        return(0)"
   ]
  },
  {
   "cell_type": "code",
   "execution_count": 27,
   "metadata": {},
   "outputs": [
    {
     "data": {
      "text/plain": [
       "0"
      ]
     },
     "execution_count": 27,
     "metadata": {},
     "output_type": "execute_result"
    }
   ],
   "source": [
    "spin(symbols, spins)"
   ]
  },
  {
   "cell_type": "markdown",
   "metadata": {},
   "source": [
    "The number of winning combinations are:\n",
    "1. For each spinning slot with three times the same pairs gives 4 combinations.\n",
    "2. The second combination requires just 2 times the same symbol on any slot 4 times (1 x 1 x 4) + (1 x 4 x 1) + (4 x 1 x 1) = 36 combinations."
   ]
  },
  {
   "cell_type": "code",
   "execution_count": 28,
   "metadata": {},
   "outputs": [],
   "source": [
    "import itertools\n",
    "\n",
    "def winning_combinations(symbols: list, spins: list, n_same_symbols:int) -> int:\n",
    "    combinations = 0\n",
    "    for p in [p for p in itertools.product(symbols, repeat=3)]: # looping through all possible combinations\n",
    "        p = list(p)\n",
    "        p.sort()\n",
    "        counts = [len(list(group)) for key, group in itertools.groupby(p)]\n",
    "        if max(counts) == n_same_symbols:\n",
    "            combinations += 1\n",
    "    return combinations"
   ]
  },
  {
   "cell_type": "code",
   "execution_count": 29,
   "metadata": {},
   "outputs": [
    {
     "data": {
      "text/plain": [
       "40"
      ]
     },
     "execution_count": 29,
     "metadata": {},
     "output_type": "execute_result"
    }
   ],
   "source": [
    "winning_combinations(symbols, spins, 2) + winning_combinations(symbols, spins, 3)"
   ]
  },
  {
   "cell_type": "code",
   "execution_count": 30,
   "metadata": {},
   "outputs": [
    {
     "data": {
      "text/plain": [
       "56.25"
      ]
     },
     "execution_count": 30,
     "metadata": {},
     "output_type": "execute_result"
    }
   ],
   "source": [
    "winning_combinations(symbols, spins, 2) / total_combinations(symbols, spins) * 100"
   ]
  },
  {
   "cell_type": "code",
   "execution_count": 31,
   "metadata": {},
   "outputs": [
    {
     "data": {
      "text/plain": [
       "6.25"
      ]
     },
     "execution_count": 31,
     "metadata": {},
     "output_type": "execute_result"
    }
   ],
   "source": [
    "winning_combinations(symbols, spins, 3) / total_combinations(symbols, spins) * 100"
   ]
  },
  {
   "cell_type": "markdown",
   "metadata": {},
   "source": [
    "The probability to get a win can be calculated by:<br/>\n",
    "winning combinations / total combinations<br/>\n",
    "(4 + 36) / 64 = 62.5 %"
   ]
  },
  {
   "cell_type": "code",
   "execution_count": 32,
   "metadata": {},
   "outputs": [
    {
     "data": {
      "text/plain": [
       "62.5"
      ]
     },
     "execution_count": 32,
     "metadata": {},
     "output_type": "execute_result"
    }
   ],
   "source": [
    "(winning_combinations(symbols, spins, 2) + winning_combinations(symbols, spins, 3)) / total_combinations(symbols, spins) * 100"
   ]
  },
  {
   "cell_type": "markdown",
   "metadata": {},
   "source": [
    "The expected value is the sum of winnings by amount times combinations divided by the total combinations as on this example one spin costs 1 coin.<br/>\n",
    "(4 x 50 + 36 x 10) / 64 = 8.75"
   ]
  },
  {
   "cell_type": "code",
   "execution_count": 9,
   "metadata": {},
   "outputs": [
    {
     "data": {
      "text/plain": [
       "8.75"
      ]
     },
     "execution_count": 9,
     "metadata": {},
     "output_type": "execute_result"
    }
   ],
   "source": [
    "(winning_combinations(symbols, spins, 3) * 50 + winning_combinations(symbols, spins, 2) * 10) / total_combinations(symbols, spins)"
   ]
  },
  {
   "cell_type": "code",
   "execution_count": 13,
   "metadata": {},
   "outputs": [
    {
     "name": "stdout",
     "output_type": "stream",
     "text": [
      "86580\n"
     ]
    }
   ],
   "source": [
    "payout = 0\n",
    "for i in range(10000):\n",
    "    payout += spin(symbols, spins)\n",
    "print(payout)"
   ]
  },
  {
   "cell_type": "markdown",
   "metadata": {},
   "source": [
    "A slot machine with a payout of 8.75 is not economically sustainable as you might imagine. On average a value of around 90 % is common."
   ]
  }
 ],
 "metadata": {
  "kernelspec": {
   "display_name": "Python 3",
   "language": "python",
   "name": "python3"
  },
  "language_info": {
   "codemirror_mode": {
    "name": "ipython",
    "version": 3
   },
   "file_extension": ".py",
   "mimetype": "text/x-python",
   "name": "python",
   "nbconvert_exporter": "python",
   "pygments_lexer": "ipython3",
   "version": "3.6.6+"
  }
 },
 "nbformat": 4,
 "nbformat_minor": 2
}
