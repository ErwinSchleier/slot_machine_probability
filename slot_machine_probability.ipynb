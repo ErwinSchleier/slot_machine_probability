{
 "cells": [
  {
   "cell_type": "markdown",
   "metadata": {},
   "source": [
    "# Expected Value of a Slot Machine"
   ]
  },
  {
   "cell_type": "markdown",
   "metadata": {},
   "source": [
    "A slot machine with, in this example 3 slots and 4 different symbols can have 64 (4 x 4 x 4) different combinations. The number of combinations in today's slots is somewhat higher. For example 5 slots with 30 symbols each, has a total of combinations of 243,000,000."
   ]
  },
  {
   "cell_type": "code",
   "execution_count": 1,
   "metadata": {},
   "outputs": [],
   "source": [
    "symbols = [1, 2, 3, 4]\n",
    "spins = [1, 2, 3]"
   ]
  },
  {
   "cell_type": "code",
   "execution_count": 2,
   "metadata": {},
   "outputs": [],
   "source": [
    "def total_combinations(symbols: list, spins: list) -> int:\n",
    "    \"\"\" Calculates all possible combinations\n",
    "    :param symbols: list of different symbols\n",
    "    :param spins: list that represents the number of slots\n",
    "    \"\"\"\n",
    "    result = 0\n",
    "    for i, spin in enumerate(spins):\n",
    "        if i == 0:\n",
    "            result = len(symbols)\n",
    "        else:\n",
    "            result = result * len(symbols)\n",
    "    return result"
   ]
  },
  {
   "cell_type": "code",
   "execution_count": 3,
   "metadata": {},
   "outputs": [
    {
     "output_type": "stream",
     "name": "stdout",
     "text": [
      "Number of possible combinations are 64\n"
     ]
    }
   ],
   "source": [
    "print(\"Number of possible combinations are\", total_combinations(symbols, spins))"
   ]
  },
  {
   "cell_type": "markdown",
   "metadata": {},
   "source": [
    "The possible winning combinations in this example are straight forward:<br/>\n",
    "1. Three same symbols win 50 coins<br/>\n",
    "2. Two same symbols win of 10 coins<br/>"
   ]
  },
  {
   "cell_type": "code",
   "execution_count": 4,
   "metadata": {},
   "outputs": [],
   "source": [
    "import random\n",
    "\n",
    "def spin(symbols: list, spins: list) -> int:\n",
    "    \"\"\" One slot machine spin\n",
    "    :param symbols: list of different symbols\n",
    "    :param spins: list that represents the number of slots\n",
    "    \"\"\"\n",
    "    result = []\n",
    "    for spin in spins:\n",
    "        result.append(random.choice(symbols))\n",
    "    if(len(set(result)) < 3):\n",
    "        if(len(set(result)) < 2):\n",
    "            return(50)\n",
    "        else:\n",
    "            return(10)\n",
    "    else:\n",
    "        return(0)"
   ]
  },
  {
   "cell_type": "code",
   "execution_count": 5,
   "metadata": {},
   "outputs": [
    {
     "output_type": "execute_result",
     "data": {
      "text/plain": [
       "0"
      ]
     },
     "metadata": {},
     "execution_count": 5
    }
   ],
   "source": [
    "spin(symbols, spins)"
   ]
  },
  {
   "cell_type": "markdown",
   "metadata": {},
   "source": [
    "The number of winning combinations are:<br/>\n",
    "1. For each spinning slot with three times the same pairs gives 4 combinations.<br/>\n",
    "2. The second combination requires just 2 times the same symbol on any slot 4 times (1 x 1 x 4) + (1 x 4 x 1) + (4 x 1 x 1) = 36 combinations."
   ]
  },
  {
   "cell_type": "code",
   "execution_count": 6,
   "metadata": {},
   "outputs": [],
   "source": [
    "import itertools\n",
    "\n",
    "def winning_combinations(symbols: list, spins: list, n_same_symbols:int) -> int:\n",
    "    \"\"\" Calculates the number of combinations.\n",
    "    \n",
    "    :param symbols: list of different symbols\n",
    "    :param spins: list that represents the number of slots\n",
    "    :param n_same_symbols: target number of same symbols that are of interesst\n",
    "\n",
    "    \"\"\"\n",
    "    combinations = 0\n",
    "    for p in [p for p in itertools.product(symbols, repeat=3)]: # looping through all possible combinations\n",
    "        p = list(p)\n",
    "        p.sort()\n",
    "        counts = [len(list(group)) for key, group in itertools.groupby(p)]\n",
    "        if max(counts) == n_same_symbols:\n",
    "            combinations += 1\n",
    "    \n",
    "    return combinations"
   ]
  },
  {
   "cell_type": "code",
   "execution_count": 7,
   "metadata": {},
   "outputs": [
    {
     "output_type": "stream",
     "name": "stdout",
     "text": [
      "Total possible combinations are: 40\nProbability to hit two times the same symbol: 56.25\nProbability to hit three times the same symbol: 6.25\n"
     ]
    }
   ],
   "source": [
    "print(\"Total possible combinations are:\", winning_combinations(symbols, spins, 2) + winning_combinations(symbols, spins, 3))\n",
    "print(\"Probability to hit two times the same symbol:\", winning_combinations(symbols, spins, 2) / total_combinations(symbols, spins) * 100)\n",
    "print(\"Probability to hit three times the same symbol:\", winning_combinations(symbols, spins, 3) / total_combinations(symbols, spins) * 100)"
   ]
  },
  {
   "cell_type": "markdown",
   "metadata": {},
   "source": [
    "The probability to win can be calculated by:<br/>\n",
    "winning combinations / total combinations<br/>\n",
    "(4 + 36) / 64 = 62.5 %"
   ]
  },
  {
   "cell_type": "code",
   "execution_count": 8,
   "metadata": {},
   "outputs": [
    {
     "output_type": "execute_result",
     "data": {
      "text/plain": [
       "62.5"
      ]
     },
     "metadata": {},
     "execution_count": 8
    }
   ],
   "source": [
    "(winning_combinations(symbols, spins, 2) + winning_combinations(symbols, spins, 3)) / total_combinations(symbols, spins) * 100"
   ]
  },
  {
   "cell_type": "markdown",
   "metadata": {},
   "source": [
    "The expected value is: <br/>\n",
    "sum of winnings by amount x combinations / total combinations as on this example one spin costs 1 coin.<br/>\n",
    "(4 x 50 + 36 x 10) / 64 = 8.75"
   ]
  },
  {
   "cell_type": "code",
   "execution_count": 9,
   "metadata": {},
   "outputs": [
    {
     "output_type": "execute_result",
     "data": {
      "text/plain": [
       "8.75"
      ]
     },
     "metadata": {},
     "execution_count": 9
    }
   ],
   "source": [
    "(winning_combinations(symbols, spins, 3) * 50 + winning_combinations(symbols, spins, 2) * 10) / total_combinations(symbols, spins)"
   ]
  },
  {
   "cell_type": "code",
   "execution_count": 10,
   "metadata": {},
   "outputs": [
    {
     "output_type": "stream",
     "name": "stdout",
     "text": [
      "85910\n"
     ]
    }
   ],
   "source": [
    "payout = 0\n",
    "for i in range(10000):\n",
    "    payout += spin(symbols, spins)\n",
    "print(payout)"
   ]
  },
  {
   "cell_type": "markdown",
   "metadata": {},
   "source": [
    "A slot machine with a payout of 8.75 is not economically sustainable as you might imagine. On average a value of around 0.9 is common."
   ]
  }
 ],
 "metadata": {
  "kernelspec": {
   "display_name": "Python 3",
   "language": "python",
   "name": "python3"
  },
  "language_info": {
   "codemirror_mode": {
    "name": "ipython",
    "version": 3
   },
   "file_extension": ".py",
   "mimetype": "text/x-python",
   "name": "python",
   "nbconvert_exporter": "python",
   "pygments_lexer": "ipython3",
   "version": "3.8.6-final"
  }
 },
 "nbformat": 4,
 "nbformat_minor": 2
}