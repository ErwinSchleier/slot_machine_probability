{
 "cells": [
  {
   "cell_type": "markdown",
   "metadata": {},
   "source": [
    "# Expected Value of a Slot Machine"
   ]
  },
  {
   "cell_type": "markdown",
   "metadata": {},
   "source": [
    "A slot machine with, in this example 3 slots and 4 different symbols can have 64 (4 x 4 x 4) different combinations. The number of combinations in today's slots is somewhat higher. For example 5 slots with 30 symbols each, has a total of combinations of 243,000,000."
   ]
  },
  {
   "cell_type": "code",
   "execution_count": 1,
   "metadata": {},
   "outputs": [],
   "source": [
    "symbols = [1, 2, 3, 4]\n",
    "spins = [1, 2, 3]"
   ]
  },
  {
   "cell_type": "code",
   "execution_count": 2,
   "metadata": {},
   "outputs": [],
   "source": [
    "def total_combinations(symbols: list, spins: list) -> int:\n",
    "    \"\"\" Calculates all possible combinations\n",
    "    :param symbols: list of different symbols\n",
    "    :param spins: list that represents the number of slots\n",
    "    \"\"\"\n",
    "    result = 0\n",
    "    for i, spin in enumerate(spins):\n",
    "        if i == 0:\n",
    "            result = len(symbols)\n",
    "        else:\n",
    "            result = result * len(symbols)\n",
    "    return result"
   ]
  },
  {
   "cell_type": "code",
   "execution_count": 3,
   "metadata": {},
   "outputs": [
    {
     "name": "stdout",
     "output_type": "stream",
     "text": [
      "Number of possible combinations are 64\n"
     ]
    }
   ],
   "source": [
    "print(\"Number of possible combinations are\", total_combinations(symbols, spins))"
   ]
  },
  {
   "cell_type": "markdown",
   "metadata": {},
   "source": [
    "Possible winning combinations in this example are straight forward:<br/>\n",
    "1. Three same symbols win 50 coins<br/>\n",
    "2. Two same symbols win of 10 coins<br/>"
   ]
  },
  {
   "cell_type": "code",
   "execution_count": 4,
   "metadata": {},
   "outputs": [],
   "source": [
    "import random\n",
    "\n",
    "def spin(symbols: list, spins: list, x:float, y:float) -> float:\n",
    "    \"\"\" One slot machine spin\n",
    "    :param symbols: list of different symbols\n",
    "    :param spins: list that represents the number of slots\n",
    "    \"\"\"\n",
    "    result = []\n",
    "    for spin in spins:\n",
    "        result.append(random.choice(symbols))\n",
    "    if(len(set(result)) < 3):\n",
    "        if(len(set(result)) < 2):\n",
    "            return(x)\n",
    "        else:\n",
    "            return(y)\n",
    "    else:\n",
    "        return(0)"
   ]
  },
  {
   "cell_type": "code",
   "execution_count": 5,
   "metadata": {},
   "outputs": [
    {
     "data": {
      "text/plain": [
       "10"
      ]
     },
     "execution_count": 5,
     "metadata": {},
     "output_type": "execute_result"
    }
   ],
   "source": [
    "spin(symbols, spins, 50, 10)"
   ]
  },
  {
   "cell_type": "markdown",
   "metadata": {},
   "source": [
    "The number of winning combinations are:<br/>\n",
    "1. For each spinning slot with three times the same pairs gives 4 combinations.<br/>\n",
    "2. The second combination requires 2 times the same symbol on any slot 4 times (1 x 1 x 4) + (1 x 4 x 1) + (4 x 1 x 1) = 36 combinations."
   ]
  },
  {
   "cell_type": "code",
   "execution_count": 6,
   "metadata": {},
   "outputs": [],
   "source": [
    "import itertools\n",
    "\n",
    "def winning_combinations(symbols: list, spins: list, n_same_symbols:int) -> int:\n",
    "    \"\"\" Calculates the number of combinations.\n",
    "    :param symbols: list of different symbols\n",
    "    :param spins: list that represents the number of slots\n",
    "    :param n_same_symbols: target number of same symbols that are of interest\n",
    "    \"\"\"\n",
    "    combinations = 0\n",
    "    for p in [p for p in itertools.product(symbols, repeat=3)]: # looping through all possible combinations\n",
    "        p = list(p)\n",
    "        p.sort()\n",
    "        counts = [len(list(group)) for key, group in itertools.groupby(p)]\n",
    "        if max(counts) == n_same_symbols:\n",
    "            combinations += 1\n",
    "    \n",
    "    return combinations"
   ]
  },
  {
   "cell_type": "code",
   "execution_count": 7,
   "metadata": {},
   "outputs": [
    {
     "name": "stdout",
     "output_type": "stream",
     "text": [
      "Total possible combinations are: 40\n",
      "Probability to hit two times the same symbol: 56.25\n",
      "Probability to hit three times the same symbol: 6.25\n"
     ]
    }
   ],
   "source": [
    "print(\"Total possible combinations are:\", winning_combinations(symbols, spins, 2) + winning_combinations(symbols, spins, 3))\n",
    "print(\"Probability to hit two times the same symbol:\", winning_combinations(symbols, spins, 2) / total_combinations(symbols, spins) * 100)\n",
    "print(\"Probability to hit three times the same symbol:\", winning_combinations(symbols, spins, 3) / total_combinations(symbols, spins) * 100)"
   ]
  },
  {
   "cell_type": "markdown",
   "metadata": {},
   "source": [
    "The probability to win can be calculated by:<br/>\n",
    "*winning combinations / total combinations*<br/>\n",
    "(4 + 36) / 64 = 62.5 %"
   ]
  },
  {
   "cell_type": "code",
   "execution_count": 8,
   "metadata": {},
   "outputs": [
    {
     "data": {
      "text/plain": [
       "62.5"
      ]
     },
     "execution_count": 8,
     "metadata": {},
     "output_type": "execute_result"
    }
   ],
   "source": [
    "(winning_combinations(symbols, spins, 2) + winning_combinations(symbols, spins, 3)) / total_combinations(symbols, spins) * 100"
   ]
  },
  {
   "cell_type": "markdown",
   "metadata": {},
   "source": [
    "The expected value is: <br/>\n",
    "sum of winnings by amount x combinations / total combinations as on this example one spin costs 1 coin.<br/>\n",
    "4/64 * 50 + 36/64 * 10 = 8.75"
   ]
  },
  {
   "cell_type": "code",
   "execution_count": 9,
   "metadata": {},
   "outputs": [],
   "source": [
    "def expected_value(x:float, y:float) -> float:\n",
    "    \"\"\" Calculates the expected value for the slot machine.\n",
    "    :param x: Payout for 3 times the same symbol.\n",
    "    :param y: Payout for 2 times the same symbol.\n",
    "    \"\"\"\n",
    "    e = 4/64 * x + 36/64 * y\n",
    "    return e"
   ]
  },
  {
   "cell_type": "code",
   "execution_count": 10,
   "metadata": {},
   "outputs": [
    {
     "data": {
      "text/plain": [
       "8.75"
      ]
     },
     "execution_count": 10,
     "metadata": {},
     "output_type": "execute_result"
    }
   ],
   "source": [
    "expected_value(50, 10)"
   ]
  },
  {
   "cell_type": "code",
   "execution_count": 11,
   "metadata": {},
   "outputs": [
    {
     "data": {
      "text/plain": [
       "8.75"
      ]
     },
     "execution_count": 11,
     "metadata": {},
     "output_type": "execute_result"
    }
   ],
   "source": [
    "(winning_combinations(symbols, spins, 3) * 50 + winning_combinations(symbols, spins, 2) * 10) / total_combinations(symbols, spins)"
   ]
  },
  {
   "cell_type": "code",
   "execution_count": 12,
   "metadata": {},
   "outputs": [
    {
     "name": "stdout",
     "output_type": "stream",
     "text": [
      "88700\n"
     ]
    }
   ],
   "source": [
    "simulation = 0\n",
    "for i in range(10000):\n",
    "    simulation += spin(symbols, spins, 50, 10)\n",
    "print(simulation)"
   ]
  },
  {
   "cell_type": "markdown",
   "metadata": {},
   "source": [
    "The payout in this context is defined as: <br/>\n",
    "*payout = expected value - cost*<br/>\n",
    "It describes what you will earn in the long run by including the cost of one spin.<br/>\n",
    "On this example the payout is at:<br/> \n",
    "*8.75 - 1 = 7.75*"
   ]
  },
  {
   "cell_type": "code",
   "execution_count": 46,
   "metadata": {},
   "outputs": [
    {
     "name": "stdout",
     "output_type": "stream",
     "text": [
      "77890\n"
     ]
    }
   ],
   "source": [
    "simulation = 0\n",
    "for i in range(10000):\n",
    "    simulation += spin(symbols, spins, 50, 10)\n",
    "    simulation -= 1\n",
    "print(simulation)"
   ]
  },
  {
   "cell_type": "markdown",
   "metadata": {},
   "source": [
    "A slot machine with a payout of 7.75 is not economically sustainable as you might imagine. So let's improve the payout by calculating the fair game. A fair game is defined as:<br/>\n",
    "*payout = expected value - costs = 0*"
   ]
  },
  {
   "cell_type": "markdown",
   "metadata": {},
   "source": [
    "As the cost per spin is by 1, the fair game equation is:<br/>\n",
    "*4/64 * x + 36/64 * y = 1*<br/>\n",
    "On the equation above it's easy to see that the two zeropoints at 16 for x and 16/9 for y.<br/>\n",
    "Converting the formula to y gives:<br/>\n",
    "*y =  1/9 * x - 16/9*"
   ]
  },
  {
   "cell_type": "code",
   "execution_count": 16,
   "metadata": {},
   "outputs": [
    {
     "data": {
      "text/plain": [
       "Text(0, 0.5, 'y = Payout for 2 same symbols')"
      ]
     },
     "execution_count": 16,
     "metadata": {},
     "output_type": "execute_result"
    },
    {
     "data": {
      "image/png": "[encoded data removed]",
      "text/plain": [
       "<Figure size 432x288 with 1 Axes>"
      ]
     },
     "metadata": {
      "needs_background": "light"
     },
     "output_type": "display_data"
    }
   ],
   "source": [
    "import numpy as np\n",
    "import matplotlib.pyplot as plt\n",
    "\n",
    "x = np.arange(0, 16, 0.1)\n",
    "y = np.array([fair_game(xi) for xi in x])\n",
    "plt.plot(x, y)\n",
    "plt.title('Fair Game Winnings')\n",
    "plt.xlabel('x = Payout for 3 same symbols')\n",
    "plt.ylabel('y = Payout for 2 same symbols')"
   ]
  },
  {
   "cell_type": "code",
   "execution_count": 62,
   "metadata": {},
   "outputs": [],
   "source": [
    "def fair_game(x: float) -> float:\n",
    "    \"\"\" Returns the winning amount for the second combination with a given winning amount for the first combination.\n",
    "    :param x: Winning amount for three times the same symbol\n",
    "    \"\"\"\n",
    "    y = -1/9 * x + 16/9\n",
    "    return y"
   ]
  },
  {
   "cell_type": "code",
   "execution_count": 63,
   "metadata": {},
   "outputs": [
    {
     "data": {
      "text/plain": [
       "1.222222222222222"
      ]
     },
     "execution_count": 63,
     "metadata": {},
     "output_type": "execute_result"
    }
   ],
   "source": [
    "x = 5\n",
    "fair_game(x)"
   ]
  },
  {
   "cell_type": "code",
   "execution_count": 115,
   "metadata": {},
   "outputs": [
    {
     "name": "stdout",
     "output_type": "stream",
     "text": [
      "63.55555555558442\n"
     ]
    }
   ],
   "source": [
    "simulation = 0\n",
    "for i in range(10000):\n",
    "    simulation += spin(symbols, spins, x, fair_game(x))\n",
    "    simulation -= 1\n",
    "print(simulation)"
   ]
  },
  {
   "cell_type": "markdown",
   "metadata": {},
   "source": [
    "The payout "
   ]
  }
 ],
 "metadata": {
  "kernelspec": {
   "display_name": "Python 3",
   "language": "python",
   "name": "python3"
  },
  "language_info": {
   "codemirror_mode": {
    "name": "ipython",
    "version": 3
   },
   "file_extension": ".py",
   "mimetype": "text/x-python",
   "name": "python",
   "nbconvert_exporter": "python",
   "pygments_lexer": "ipython3",
   "version": "3.7.7"
  }
 },
 "nbformat": 4,
 "nbformat_minor": 4
}
